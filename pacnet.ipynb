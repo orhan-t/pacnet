{
  "nbformat": 4,
  "nbformat_minor": 0,
  "metadata": {
    "colab": {
      "name": "TensorFlow with GPU",
      "provenance": [],
      "collapsed_sections": [],
      "toc_visible": true,
      "include_colab_link": true
    },
    "kernelspec": {
      "display_name": "Python 3",
      "name": "python3"
    },
    "accelerator": "GPU"
  },
  "cells": [
    {
      "cell_type": "markdown",
      "metadata": {
        "id": "view-in-github",
        "colab_type": "text"
      },
      "source": [
        "<a href=\"https://colab.research.google.com/github/orhan-t/pacnet/blob/main/pacnet.ipynb\" target=\"_parent\"><img src=\"https://colab.research.google.com/assets/colab-badge.svg\" alt=\"Open In Colab\"/></a>"
      ]
    },
    {
      "cell_type": "markdown",
      "metadata": {
        "id": "UINfSLRraEve"
      },
      "source": [
        "# **Download pacnet**"
      ]
    },
    {
      "cell_type": "code",
      "metadata": {
        "id": "CFY4WzPHaMJF"
      },
      "source": [
        "!git clone -b master https://github.com/NVlabs/pacnet.git"
      ],
      "execution_count": null,
      "outputs": []
    },
    {
      "cell_type": "markdown",
      "metadata": {
        "id": "1anF4ARzal8o"
      },
      "source": [
        "# Go pacnet"
      ]
    },
    {
      "cell_type": "code",
      "metadata": {
        "id": "wecE6CPHavTa"
      },
      "source": [
        "%cd /content/pacnet"
      ],
      "execution_count": null,
      "outputs": []
    },
    {
      "cell_type": "markdown",
      "metadata": {
        "id": "pXOc90qqhePI"
      },
      "source": [
        "# Download environment"
      ]
    },
    {
      "cell_type": "code",
      "metadata": {
        "id": "f6-z7EVbbJtA"
      },
      "source": [
        "!pip install torch==1.0.0 torchvision==0.4.2\r\n",
        "!pip install -r requirements.txt\r\n",
        "!pip install Pillow==6.1"
      ],
      "execution_count": null,
      "outputs": []
    },
    {
      "cell_type": "markdown",
      "metadata": {
        "id": "habrxr8ci2KI"
      },
      "source": [
        "# Test pacnet"
      ]
    },
    {
      "cell_type": "code",
      "metadata": {
        "id": "aRHqtRw5i6Us"
      },
      "source": [
        "!python -m unittest"
      ],
      "execution_count": null,
      "outputs": []
    },
    {
      "cell_type": "markdown",
      "metadata": {
        "id": "ivjsctVCjMfn"
      },
      "source": [
        "#train pacnet"
      ]
    },
    {
      "cell_type": "code",
      "metadata": {
        "id": "CckSQs7KjcZ-"
      },
      "source": [
        "python -m task_jointUpsampling.main --factor 8 \\\r\n",
        "                                    --data-root data/sintel \\\r\n",
        "                                    --exp-root exp/sintel \\\r\n",
        "                                    --download \\\r\n",
        "                                    --dataset Sintel \\\r\n",
        "                                    --epochs 5000 \\\r\n",
        "                                    --lr-steps 3500 4500"
      ],
      "execution_count": null,
      "outputs": []
    },
    {
      "cell_type": "markdown",
      "metadata": {
        "id": "Vvu3hLAbjfG2"
      },
      "source": [
        "#Test pacnet\r\n"
      ]
    },
    {
      "cell_type": "code",
      "metadata": {
        "id": "S5AnfFQDjoxO"
      },
      "source": [
        "python -m task_jointUpsampling.main --load-weights weights_flow/x8_pac_weights_epoch_5000.pth \\\r\n",
        "                                    --download \\\r\n",
        "                                    --factor 8 \\\r\n",
        "                                    --model PacJointUpsample \\\r\n",
        "                                    --dataset Sintel \\\r\n",
        "                                    --data-root data/sintel"
      ],
      "execution_count": null,
      "outputs": []
    }
  ]
}
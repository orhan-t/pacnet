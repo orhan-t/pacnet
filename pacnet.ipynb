{
  "nbformat": 4,
  "nbformat_minor": 0,
  "metadata": {
    "colab": {
      "name": "TensorFlow with GPU",
      "provenance": [],
      "collapsed_sections": [],
      "toc_visible": true,
      "include_colab_link": true
    },
    "kernelspec": {
      "display_name": "Python 3",
      "name": "python3"
    },
    "accelerator": "GPU"
  },
  "cells": [
    {
      "cell_type": "markdown",
      "metadata": {
        "id": "view-in-github",
        "colab_type": "text"
      },
      "source": [
        "<a href=\"https://colab.research.google.com/github/orhan-t/pacnet/blob/main/pacnet.ipynb\" target=\"_parent\"><img src=\"https://colab.research.google.com/assets/colab-badge.svg\" alt=\"Open In Colab\"/></a>"
      ]
    },
    {
      "cell_type": "markdown",
      "metadata": {
        "id": "W-St61hZTxGO"
      },
      "source": [
        "# CUDA Version"
      ]
    },
    {
      "cell_type": "code",
      "metadata": {
        "id": "4nfjeS1aT2ly"
      },
      "source": [
        "!nvcc --version\r\n",
        "!python3 --version"
      ],
      "execution_count": null,
      "outputs": []
    },
    {
      "cell_type": "code",
      "metadata": {
        "id": "-kYRE0ADvegk"
      },
      "source": [
        "#Uninstall the current CUDA version\r\n",
        "!apt-get --purge remove cuda nvidia* libnvidia-*\r\n",
        "!dpkg -l | grep cuda- | awk '{print $2}' | xargs -n1 dpkg --purge\r\n",
        "!apt-get remove cuda-*\r\n",
        "!apt autoremove\r\n",
        "!apt-get update"
      ],
      "execution_count": null,
      "outputs": []
    },
    {
      "cell_type": "code",
      "metadata": {
        "id": "s8c7oaUHvm4u"
      },
      "source": [
        "#Download CUDA 10.0\r\n",
        "!wget  --no-clobber https://developer.download.nvidia.com/compute/cuda/repos/ubuntu1804/x86_64/cuda-repo-ubuntu1804_10.0.130-1_amd64.deb\r\n",
        "#install CUDA kit dpkg\r\n",
        "!dpkg -i cuda-repo-ubuntu1804_10.0.130-1_amd64.deb\r\n",
        "!sudo apt-key adv --fetch-keys https://developer.download.nvidia.com/compute/cuda/repos/ubuntu1804/x86_64/7fa2af80.pub\r\n",
        "!apt-get update\r\n",
        "!apt-get install cuda-10-0"
      ],
      "execution_count": null,
      "outputs": []
    },
    {
      "cell_type": "markdown",
      "metadata": {
        "id": "UINfSLRraEve"
      },
      "source": [
        "# **Download pacnet**"
      ]
    },
    {
      "cell_type": "code",
      "metadata": {
        "id": "CFY4WzPHaMJF"
      },
      "source": [
        "!git clone -b master https://github.com/NVlabs/pacnet.git"
      ],
      "execution_count": null,
      "outputs": []
    },
    {
      "cell_type": "markdown",
      "metadata": {
        "id": "1anF4ARzal8o"
      },
      "source": [
        "# Go pacnet"
      ]
    },
    {
      "cell_type": "code",
      "metadata": {
        "id": "wecE6CPHavTa"
      },
      "source": [
        "%cd /content/pacnet"
      ],
      "execution_count": null,
      "outputs": []
    },
    {
      "cell_type": "markdown",
      "metadata": {
        "id": "2D8gfMTnTkHw"
      },
      "source": [
        "# Virtual Env. Setting"
      ]
    },
    {
      "cell_type": "code",
      "metadata": {
        "id": "Q58Nm8VlTsD_"
      },
      "source": [
        "!sudo apt-get install python3-venv\r\n",
        "!python3 -m venv venv"
      ],
      "execution_count": null,
      "outputs": []
    },
    {
      "cell_type": "code",
      "metadata": {
        "id": "SsYSOAVPS4uc"
      },
      "source": [
        "!source venv/bin/activate"
      ],
      "execution_count": 17,
      "outputs": []
    },
    {
      "cell_type": "markdown",
      "metadata": {
        "id": "pXOc90qqhePI"
      },
      "source": [
        "# Download environment"
      ]
    },
    {
      "cell_type": "code",
      "metadata": {
        "id": "f6-z7EVbbJtA"
      },
      "source": [
        "!wget https://download.pytorch.org/whl/cu100/torch-1.1.0-cp36-cp36m-linux_x86_64.whl\r\n",
        "!wget https://download.pytorch.org/whl/cu100/torchvision-0.3.0-cp36-cp36m-linux_x86_64.whl\r\n",
        "!pip3 install torch-1.1.0-cp36-cp36m-linux_x86_64.whl\r\n",
        "!pip3 install torchvision-0.3.0-cp36-cp36m-linux_x86_64.whl\r\n",
        "!pip3 install -r requirements.txt\r\n",
        "!pip3 install Pillow==6.1"
      ],
      "execution_count": null,
      "outputs": []
    },
    {
      "cell_type": "markdown",
      "metadata": {
        "id": "habrxr8ci2KI"
      },
      "source": [
        "# Test pacnet"
      ]
    },
    {
      "cell_type": "code",
      "metadata": {
        "id": "aRHqtRw5i6Us"
      },
      "source": [
        "!python3 test_pac.py"
      ],
      "execution_count": null,
      "outputs": []
    },
    {
      "cell_type": "markdown",
      "metadata": {
        "id": "ivjsctVCjMfn"
      },
      "source": [
        "#train pacnet"
      ]
    },
    {
      "cell_type": "code",
      "metadata": {
        "id": "CckSQs7KjcZ-",
        "outputId": "071c12be-41e0-415b-ae33-4a21cb63aca3",
        "colab": {
          "base_uri": "https://localhost:8080/"
        }
      },
      "source": [
        "!python3 -m task_jointUpsampling.main --factor 8 \\\r\n",
        "                                    --data-root data/sintel \\\r\n",
        "                                    --exp-root exp/sintel \\\r\n",
        "                                    --download \\\r\n",
        "                                    --dataset Sintel \\\r\n",
        "                                    --epochs 5000 \\\r\n",
        "                                    --lr-steps 3500 4500"
      ],
      "execution_count": null,
      "outputs": [
        {
          "output_type": "stream",
          "text": [
            "Downloading http://files.is.tue.mpg.de/sintel/MPI-Sintel-complete.zip to data/MPI-Sintel-complete.zip\n",
            "5627789312it [11:00, 7856191.73it/s]                    \n",
            "Testing (#epochs=0)\n",
            "Average loss: 0.225314\n",
            "epe: 65.207508\n",
            "\n",
            "Train Epoch 1 [100/908 ( 11%)]\tLR: 0.0001\tLoss: 0.031545\t\n",
            "Train Epoch 1 [200/908 ( 22%)]\tLR: 0.0001\tLoss: 0.035271\t\n",
            "Train Epoch 1 [300/908 ( 33%)]\tLR: 0.0001\tLoss: 0.003391\t\n",
            "Train Epoch 1 [400/908 ( 44%)]\tLR: 0.0001\tLoss: 0.006566\t\n",
            "Train Epoch 1 [500/908 ( 55%)]\tLR: 0.0001\tLoss: 0.013269\t\n",
            "Train Epoch 1 [600/908 ( 66%)]\tLR: 0.0001\tLoss: 0.021017\t\n",
            "Train Epoch 1 [700/908 ( 77%)]\tLR: 0.0001\tLoss: 0.002962\t\n",
            "Train Epoch 1 [800/908 ( 88%)]\tLR: 0.0001\tLoss: 0.001254\t\n",
            "Train Epoch 1 [900/908 ( 99%)]\tLR: 0.0001\tLoss: 0.003368\t\n",
            "Train Epoch 1 [908/908 (100%)]\tLR: 0.0001\tLoss: 0.000580\t\n",
            "Train Epoch 2 [100/908 ( 11%)]\tLR: 0.0001\tLoss: 0.003366\t\n",
            "Train Epoch 2 [200/908 ( 22%)]\tLR: 0.0001\tLoss: 0.004127\t\n",
            "Train Epoch 2 [300/908 ( 33%)]\tLR: 0.0001\tLoss: 0.001599\t\n",
            "Train Epoch 2 [400/908 ( 44%)]\tLR: 0.0001\tLoss: 0.001970\t\n",
            "Train Epoch 2 [500/908 ( 55%)]\tLR: 0.0001\tLoss: 0.003510\t\n",
            "Train Epoch 2 [600/908 ( 66%)]\tLR: 0.0001\tLoss: 0.003059\t\n",
            "Train Epoch 2 [700/908 ( 77%)]\tLR: 0.0001\tLoss: 0.000833\t\n",
            "Train Epoch 2 [800/908 ( 88%)]\tLR: 0.0001\tLoss: 0.002134\t\n",
            "Train Epoch 2 [900/908 ( 99%)]\tLR: 0.0001\tLoss: 0.002653\t\n",
            "Train Epoch 2 [908/908 (100%)]\tLR: 0.0001\tLoss: 0.025189\t\n",
            "Train Epoch 3 [100/908 ( 11%)]\tLR: 0.0001\tLoss: 0.002739\t\n",
            "Train Epoch 3 [200/908 ( 22%)]\tLR: 0.0001\tLoss: 0.004168\t\n",
            "Train Epoch 3 [300/908 ( 33%)]\tLR: 0.0001\tLoss: 0.003321\t\n",
            "Train Epoch 3 [400/908 ( 44%)]\tLR: 0.0001\tLoss: 0.006945\t\n",
            "Train Epoch 3 [500/908 ( 55%)]\tLR: 0.0001\tLoss: 0.000814\t\n",
            "Train Epoch 3 [600/908 ( 66%)]\tLR: 0.0001\tLoss: 0.002554\t\n",
            "Train Epoch 3 [700/908 ( 77%)]\tLR: 0.0001\tLoss: 0.002719\t\n",
            "Train Epoch 3 [800/908 ( 88%)]\tLR: 0.0001\tLoss: 0.002389\t\n",
            "Train Epoch 3 [900/908 ( 99%)]\tLR: 0.0001\tLoss: 0.001059\t\n",
            "Train Epoch 3 [908/908 (100%)]\tLR: 0.0001\tLoss: 0.003660\t\n",
            "Train Epoch 4 [100/908 ( 11%)]\tLR: 0.0001\tLoss: 0.001209\t\n",
            "Train Epoch 4 [200/908 ( 22%)]\tLR: 0.0001\tLoss: 0.000696\t\n",
            "Train Epoch 4 [300/908 ( 33%)]\tLR: 0.0001\tLoss: 0.003814\t\n",
            "Train Epoch 4 [400/908 ( 44%)]\tLR: 0.0001\tLoss: 0.001010\t\n",
            "Train Epoch 4 [500/908 ( 55%)]\tLR: 0.0001\tLoss: 0.002153\t\n",
            "Train Epoch 4 [600/908 ( 66%)]\tLR: 0.0001\tLoss: 0.002717\t\n",
            "Train Epoch 4 [700/908 ( 77%)]\tLR: 0.0001\tLoss: 0.000633\t\n",
            "Train Epoch 4 [800/908 ( 88%)]\tLR: 0.0001\tLoss: 0.000277\t\n",
            "Train Epoch 4 [900/908 ( 99%)]\tLR: 0.0001\tLoss: 0.003620\t\n",
            "Train Epoch 4 [908/908 (100%)]\tLR: 0.0001\tLoss: 0.005279\t\n",
            "Train Epoch 5 [100/908 ( 11%)]\tLR: 0.0001\tLoss: 0.003464\t\n",
            "Train Epoch 5 [200/908 ( 22%)]\tLR: 0.0001\tLoss: 0.000165\t\n",
            "Train Epoch 5 [300/908 ( 33%)]\tLR: 0.0001\tLoss: 0.001215\t\n",
            "Train Epoch 5 [400/908 ( 44%)]\tLR: 0.0001\tLoss: 0.002242\t\n"
          ],
          "name": "stdout"
        }
      ]
    },
    {
      "cell_type": "markdown",
      "metadata": {
        "id": "Vvu3hLAbjfG2"
      },
      "source": [
        "#Test pacnet\r\n"
      ]
    },
    {
      "cell_type": "code",
      "metadata": {
        "id": "S5AnfFQDjoxO"
      },
      "source": [
        "!python -m task_jointUpsampling.main --load-weights weights_flow/x8_pac_weights_epoch_5000.pth \\\r\n",
        "                                    --download \\\r\n",
        "                                    --factor 8 \\\r\n",
        "                                    --model PacJointUpsample \\\r\n",
        "                                    --dataset Sintel \\\r\n",
        "                                    --data-root data/sintel"
      ],
      "execution_count": null,
      "outputs": []
    }
  ]
}
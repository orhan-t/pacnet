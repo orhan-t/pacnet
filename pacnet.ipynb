{
  "nbformat": 4,
  "nbformat_minor": 0,
  "metadata": {
    "colab": {
      "name": "TensorFlow with GPU",
      "provenance": [],
      "collapsed_sections": [],
      "toc_visible": true,
      "include_colab_link": true
    },
    "kernelspec": {
      "display_name": "Python 3",
      "name": "python3"
    },
    "accelerator": "GPU"
  },
  "cells": [
    {
      "cell_type": "markdown",
      "metadata": {
        "id": "view-in-github",
        "colab_type": "text"
      },
      "source": [
        "<a href=\"https://colab.research.google.com/github/orhan-t/pacnet/blob/main/pacnet.ipynb\" target=\"_parent\"><img src=\"https://colab.research.google.com/assets/colab-badge.svg\" alt=\"Open In Colab\"/></a>"
      ]
    },
    {
      "cell_type": "markdown",
      "metadata": {
        "id": "UINfSLRraEve"
      },
      "source": [
        "# **Download pacnet**"
      ]
    },
    {
      "cell_type": "code",
      "metadata": {
        "colab": {
          "base_uri": "https://localhost:8080/"
        },
        "id": "CFY4WzPHaMJF",
        "outputId": "57f3eb83-7f84-4728-b497-a94af7163c06"
      },
      "source": [
        "!git clone -b master https://github.com/NVlabs/pacnet.git"
      ],
      "execution_count": 1,
      "outputs": [
        {
          "output_type": "stream",
          "text": [
            "Cloning into 'pacnet'...\n",
            "remote: Enumerating objects: 40, done.\u001b[K\n",
            "remote: Total 40 (delta 0), reused 0 (delta 0), pack-reused 40\u001b[K\n",
            "Unpacking objects: 100% (40/40), done.\n"
          ],
          "name": "stdout"
        }
      ]
    },
    {
      "cell_type": "markdown",
      "metadata": {
        "id": "1anF4ARzal8o"
      },
      "source": [
        "# Go pacnet"
      ]
    },
    {
      "cell_type": "code",
      "metadata": {
        "colab": {
          "base_uri": "https://localhost:8080/"
        },
        "id": "wecE6CPHavTa",
        "outputId": "ac6122a0-587b-4195-fb45-8e25acefa2b8"
      },
      "source": [
        "%cd /content/pacnet"
      ],
      "execution_count": 2,
      "outputs": [
        {
          "output_type": "stream",
          "text": [
            "/content/pacnet\n"
          ],
          "name": "stdout"
        }
      ]
    },
    {
      "cell_type": "markdown",
      "metadata": {
        "id": "pXOc90qqhePI"
      },
      "source": [
        "# Download environment"
      ]
    },
    {
      "cell_type": "code",
      "metadata": {
        "colab": {
          "base_uri": "https://localhost:8080/"
        },
        "id": "f6-z7EVbbJtA",
        "outputId": "2b5a0f5f-1c35-43ca-c229-f7f74a27d3e9"
      },
      "source": [
        "!pip install torch==1.0.0 torchvision==0.4.2\r\n",
        "!pip install -r requirements.txt\r\n",
        "!pip install Pillow==6.1"
      ],
      "execution_count": 6,
      "outputs": [
        {
          "output_type": "stream",
          "text": [
            "Requirement already satisfied: torch==1.0.0 in /usr/local/lib/python3.6/dist-packages (1.0.0)\n",
            "Requirement already satisfied: torchvision==0.4.2 in /usr/local/lib/python3.6/dist-packages (0.4.2)\n",
            "Requirement already satisfied: pillow>=4.1.1 in /usr/local/lib/python3.6/dist-packages (from torchvision==0.4.2) (6.1.0)\n",
            "Requirement already satisfied: numpy in /usr/local/lib/python3.6/dist-packages (from torchvision==0.4.2) (1.19.4)\n",
            "Requirement already satisfied: six in /usr/local/lib/python3.6/dist-packages (from torchvision==0.4.2) (1.15.0)\n",
            "Requirement already satisfied: cython in /usr/local/lib/python3.6/dist-packages (from -r requirements.txt (line 1)) (0.29.21)\n",
            "Requirement already satisfied: h5py in /usr/local/lib/python3.6/dist-packages (from -r requirements.txt (line 2)) (2.10.0)\n",
            "Requirement already satisfied: tqdm in /usr/local/lib/python3.6/dist-packages (from -r requirements.txt (line 3)) (4.41.1)\n",
            "Requirement already satisfied: msgpack in /usr/local/lib/python3.6/dist-packages (from -r requirements.txt (line 4)) (1.0.1)\n",
            "Requirement already satisfied: pillow in /usr/local/lib/python3.6/dist-packages (from -r requirements.txt (line 5)) (6.1.0)\n",
            "Requirement already satisfied: imageio in /usr/local/lib/python3.6/dist-packages (from -r requirements.txt (line 6)) (2.4.1)\n",
            "Requirement already satisfied: numpy in /usr/local/lib/python3.6/dist-packages (from -r requirements.txt (line 7)) (1.19.4)\n",
            "Requirement already satisfied: scipy in /usr/local/lib/python3.6/dist-packages (from -r requirements.txt (line 8)) (1.4.1)\n",
            "Requirement already satisfied: scikit-image in /usr/local/lib/python3.6/dist-packages (from -r requirements.txt (line 9)) (0.16.2)\n",
            "Requirement already satisfied: gdown in /usr/local/lib/python3.6/dist-packages (from -r requirements.txt (line 10)) (3.6.4)\n",
            "Requirement already satisfied: six in /usr/local/lib/python3.6/dist-packages (from h5py->-r requirements.txt (line 2)) (1.15.0)\n",
            "Requirement already satisfied: matplotlib!=3.0.0,>=2.0.0 in /usr/local/lib/python3.6/dist-packages (from scikit-image->-r requirements.txt (line 9)) (3.2.2)\n",
            "Requirement already satisfied: PyWavelets>=0.4.0 in /usr/local/lib/python3.6/dist-packages (from scikit-image->-r requirements.txt (line 9)) (1.1.1)\n",
            "Requirement already satisfied: networkx>=2.0 in /usr/local/lib/python3.6/dist-packages (from scikit-image->-r requirements.txt (line 9)) (2.5)\n",
            "Requirement already satisfied: requests in /usr/local/lib/python3.6/dist-packages (from gdown->-r requirements.txt (line 10)) (2.23.0)\n",
            "Requirement already satisfied: kiwisolver>=1.0.1 in /usr/local/lib/python3.6/dist-packages (from matplotlib!=3.0.0,>=2.0.0->scikit-image->-r requirements.txt (line 9)) (1.3.1)\n",
            "Requirement already satisfied: pyparsing!=2.0.4,!=2.1.2,!=2.1.6,>=2.0.1 in /usr/local/lib/python3.6/dist-packages (from matplotlib!=3.0.0,>=2.0.0->scikit-image->-r requirements.txt (line 9)) (2.4.7)\n",
            "Requirement already satisfied: python-dateutil>=2.1 in /usr/local/lib/python3.6/dist-packages (from matplotlib!=3.0.0,>=2.0.0->scikit-image->-r requirements.txt (line 9)) (2.8.1)\n",
            "Requirement already satisfied: cycler>=0.10 in /usr/local/lib/python3.6/dist-packages (from matplotlib!=3.0.0,>=2.0.0->scikit-image->-r requirements.txt (line 9)) (0.10.0)\n",
            "Requirement already satisfied: decorator>=4.3.0 in /usr/local/lib/python3.6/dist-packages (from networkx>=2.0->scikit-image->-r requirements.txt (line 9)) (4.4.2)\n",
            "Requirement already satisfied: chardet<4,>=3.0.2 in /usr/local/lib/python3.6/dist-packages (from requests->gdown->-r requirements.txt (line 10)) (3.0.4)\n",
            "Requirement already satisfied: urllib3!=1.25.0,!=1.25.1,<1.26,>=1.21.1 in /usr/local/lib/python3.6/dist-packages (from requests->gdown->-r requirements.txt (line 10)) (1.24.3)\n",
            "Requirement already satisfied: idna<3,>=2.5 in /usr/local/lib/python3.6/dist-packages (from requests->gdown->-r requirements.txt (line 10)) (2.10)\n",
            "Requirement already satisfied: certifi>=2017.4.17 in /usr/local/lib/python3.6/dist-packages (from requests->gdown->-r requirements.txt (line 10)) (2020.12.5)\n",
            "Requirement already satisfied: Pillow==6.1 in /usr/local/lib/python3.6/dist-packages (6.1.0)\n"
          ],
          "name": "stdout"
        }
      ]
    },
    {
      "cell_type": "markdown",
      "metadata": {
        "id": "habrxr8ci2KI"
      },
      "source": [
        "# Test pacnet"
      ]
    },
    {
      "cell_type": "code",
      "metadata": {
        "id": "aRHqtRw5i6Us",
        "outputId": "f4f0234b-2ab7-4a48-9ab7-ea7390dabec8",
        "colab": {
          "base_uri": "https://localhost:8080/"
        }
      },
      "source": [
        "!python -m unittest"
      ],
      "execution_count": 8,
      "outputs": [
        {
          "output_type": "stream",
          "text": [
            "THCudaCheck FAIL file=/pytorch/torch/csrc/cuda/Module.cpp line=34 error=38 : no CUDA-capable device is detected\n",
            "EEEEEEEEEEEEEEEEEEEEE\n",
            "======================================================================\n",
            "ERROR: test_conv_all_grad (test_pac.PacConvTest)\n",
            "----------------------------------------------------------------------\n",
            "Traceback (most recent call last):\n",
            "  File \"/content/pacnet/test_pac.py\", line 55, in setUp\n",
            "    th.cuda.set_device(0)\n",
            "  File \"/usr/local/lib/python3.6/dist-packages/torch/cuda/__init__.py\", line 264, in set_device\n",
            "    torch._C._cuda_setDevice(device)\n",
            "RuntimeError: cuda runtime error (38) : no CUDA-capable device is detected at /pytorch/torch/csrc/cuda/Module.cpp:34\n",
            "\n",
            "======================================================================\n",
            "ERROR: test_conv_forward_const_kernel (test_pac.PacConvTest)\n",
            "----------------------------------------------------------------------\n",
            "Traceback (most recent call last):\n",
            "  File \"/content/pacnet/test_pac.py\", line 55, in setUp\n",
            "    th.cuda.set_device(0)\n",
            "  File \"/usr/local/lib/python3.6/dist-packages/torch/cuda/__init__.py\", line 264, in set_device\n",
            "    torch._C._cuda_setDevice(device)\n",
            "RuntimeError: cuda runtime error (38) : no CUDA-capable device is detected at /pytorch/torch/csrc/cuda/Module.cpp:34\n",
            "\n",
            "======================================================================\n",
            "ERROR: test_conv_input_grad (test_pac.PacConvTest)\n",
            "----------------------------------------------------------------------\n",
            "Traceback (most recent call last):\n",
            "  File \"/content/pacnet/test_pac.py\", line 55, in setUp\n",
            "    th.cuda.set_device(0)\n",
            "  File \"/usr/local/lib/python3.6/dist-packages/torch/cuda/__init__.py\", line 264, in set_device\n",
            "    torch._C._cuda_setDevice(device)\n",
            "RuntimeError: cuda runtime error (38) : no CUDA-capable device is detected at /pytorch/torch/csrc/cuda/Module.cpp:34\n",
            "\n",
            "======================================================================\n",
            "ERROR: test_conv_inv_kernel_input_grad (test_pac.PacConvTest)\n",
            "----------------------------------------------------------------------\n",
            "Traceback (most recent call last):\n",
            "  File \"/content/pacnet/test_pac.py\", line 55, in setUp\n",
            "    th.cuda.set_device(0)\n",
            "  File \"/usr/local/lib/python3.6/dist-packages/torch/cuda/__init__.py\", line 264, in set_device\n",
            "    torch._C._cuda_setDevice(device)\n",
            "RuntimeError: cuda runtime error (38) : no CUDA-capable device is detected at /pytorch/torch/csrc/cuda/Module.cpp:34\n",
            "\n",
            "======================================================================\n",
            "ERROR: test_conv_sum_all_grad (test_pac.PacConvTest)\n",
            "----------------------------------------------------------------------\n",
            "Traceback (most recent call last):\n",
            "  File \"/content/pacnet/test_pac.py\", line 55, in setUp\n",
            "    th.cuda.set_device(0)\n",
            "  File \"/usr/local/lib/python3.6/dist-packages/torch/cuda/__init__.py\", line 264, in set_device\n",
            "    torch._C._cuda_setDevice(device)\n",
            "RuntimeError: cuda runtime error (38) : no CUDA-capable device is detected at /pytorch/torch/csrc/cuda/Module.cpp:34\n",
            "\n",
            "======================================================================\n",
            "ERROR: test_conv_transpose_all_grad (test_pac.PacConvTest)\n",
            "----------------------------------------------------------------------\n",
            "Traceback (most recent call last):\n",
            "  File \"/content/pacnet/test_pac.py\", line 55, in setUp\n",
            "    th.cuda.set_device(0)\n",
            "  File \"/usr/local/lib/python3.6/dist-packages/torch/cuda/__init__.py\", line 264, in set_device\n",
            "    torch._C._cuda_setDevice(device)\n",
            "RuntimeError: cuda runtime error (38) : no CUDA-capable device is detected at /pytorch/torch/csrc/cuda/Module.cpp:34\n",
            "\n",
            "======================================================================\n",
            "ERROR: test_conv_transpose_forward_const_kernel (test_pac.PacConvTest)\n",
            "----------------------------------------------------------------------\n",
            "Traceback (most recent call last):\n",
            "  File \"/content/pacnet/test_pac.py\", line 55, in setUp\n",
            "    th.cuda.set_device(0)\n",
            "  File \"/usr/local/lib/python3.6/dist-packages/torch/cuda/__init__.py\", line 264, in set_device\n",
            "    torch._C._cuda_setDevice(device)\n",
            "RuntimeError: cuda runtime error (38) : no CUDA-capable device is detected at /pytorch/torch/csrc/cuda/Module.cpp:34\n",
            "\n",
            "======================================================================\n",
            "ERROR: test_conv_transpose_input_grad (test_pac.PacConvTest)\n",
            "----------------------------------------------------------------------\n",
            "Traceback (most recent call last):\n",
            "  File \"/content/pacnet/test_pac.py\", line 55, in setUp\n",
            "    th.cuda.set_device(0)\n",
            "  File \"/usr/local/lib/python3.6/dist-packages/torch/cuda/__init__.py\", line 264, in set_device\n",
            "    torch._C._cuda_setDevice(device)\n",
            "RuntimeError: cuda runtime error (38) : no CUDA-capable device is detected at /pytorch/torch/csrc/cuda/Module.cpp:34\n",
            "\n",
            "======================================================================\n",
            "ERROR: test_conv_transpose_sum_all_grad (test_pac.PacConvTest)\n",
            "----------------------------------------------------------------------\n",
            "Traceback (most recent call last):\n",
            "  File \"/content/pacnet/test_pac.py\", line 55, in setUp\n",
            "    th.cuda.set_device(0)\n",
            "  File \"/usr/local/lib/python3.6/dist-packages/torch/cuda/__init__.py\", line 264, in set_device\n",
            "    torch._C._cuda_setDevice(device)\n",
            "RuntimeError: cuda runtime error (38) : no CUDA-capable device is detected at /pytorch/torch/csrc/cuda/Module.cpp:34\n",
            "\n",
            "======================================================================\n",
            "ERROR: test_conv_transpose_two_impl_match (test_pac.PacConvTest)\n",
            "----------------------------------------------------------------------\n",
            "Traceback (most recent call last):\n",
            "  File \"/content/pacnet/test_pac.py\", line 55, in setUp\n",
            "    th.cuda.set_device(0)\n",
            "  File \"/usr/local/lib/python3.6/dist-packages/torch/cuda/__init__.py\", line 264, in set_device\n",
            "    torch._C._cuda_setDevice(device)\n",
            "RuntimeError: cuda runtime error (38) : no CUDA-capable device is detected at /pytorch/torch/csrc/cuda/Module.cpp:34\n",
            "\n",
            "======================================================================\n",
            "ERROR: test_conv_transpose_with_kernel_input_sum_all_grad (test_pac.PacConvTest)\n",
            "----------------------------------------------------------------------\n",
            "Traceback (most recent call last):\n",
            "  File \"/content/pacnet/test_pac.py\", line 55, in setUp\n",
            "    th.cuda.set_device(0)\n",
            "  File \"/usr/local/lib/python3.6/dist-packages/torch/cuda/__init__.py\", line 264, in set_device\n",
            "    torch._C._cuda_setDevice(device)\n",
            "RuntimeError: cuda runtime error (38) : no CUDA-capable device is detected at /pytorch/torch/csrc/cuda/Module.cpp:34\n",
            "\n",
            "======================================================================\n",
            "ERROR: test_conv_two_impl_match (test_pac.PacConvTest)\n",
            "----------------------------------------------------------------------\n",
            "Traceback (most recent call last):\n",
            "  File \"/content/pacnet/test_pac.py\", line 55, in setUp\n",
            "    th.cuda.set_device(0)\n",
            "  File \"/usr/local/lib/python3.6/dist-packages/torch/cuda/__init__.py\", line 264, in set_device\n",
            "    torch._C._cuda_setDevice(device)\n",
            "RuntimeError: cuda runtime error (38) : no CUDA-capable device is detected at /pytorch/torch/csrc/cuda/Module.cpp:34\n",
            "\n",
            "======================================================================\n",
            "ERROR: test_conv_with_kernel_input_sum_all_grad (test_pac.PacConvTest)\n",
            "----------------------------------------------------------------------\n",
            "Traceback (most recent call last):\n",
            "  File \"/content/pacnet/test_pac.py\", line 55, in setUp\n",
            "    th.cuda.set_device(0)\n",
            "  File \"/usr/local/lib/python3.6/dist-packages/torch/cuda/__init__.py\", line 264, in set_device\n",
            "    torch._C._cuda_setDevice(device)\n",
            "RuntimeError: cuda runtime error (38) : no CUDA-capable device is detected at /pytorch/torch/csrc/cuda/Module.cpp:34\n",
            "\n",
            "======================================================================\n",
            "ERROR: test_conv_with_kernel_input_two_impl_match (test_pac.PacConvTest)\n",
            "----------------------------------------------------------------------\n",
            "Traceback (most recent call last):\n",
            "  File \"/content/pacnet/test_pac.py\", line 55, in setUp\n",
            "    th.cuda.set_device(0)\n",
            "  File \"/usr/local/lib/python3.6/dist-packages/torch/cuda/__init__.py\", line 264, in set_device\n",
            "    torch._C._cuda_setDevice(device)\n",
            "RuntimeError: cuda runtime error (38) : no CUDA-capable device is detected at /pytorch/torch/csrc/cuda/Module.cpp:34\n",
            "\n",
            "======================================================================\n",
            "ERROR: test_kernel_sum_grad (test_pac.PacConvTest)\n",
            "----------------------------------------------------------------------\n",
            "Traceback (most recent call last):\n",
            "  File \"/content/pacnet/test_pac.py\", line 55, in setUp\n",
            "    th.cuda.set_device(0)\n",
            "  File \"/usr/local/lib/python3.6/dist-packages/torch/cuda/__init__.py\", line 264, in set_device\n",
            "    torch._C._cuda_setDevice(device)\n",
            "RuntimeError: cuda runtime error (38) : no CUDA-capable device is detected at /pytorch/torch/csrc/cuda/Module.cpp:34\n",
            "\n",
            "======================================================================\n",
            "ERROR: test_kernel_two_impl_match (test_pac.PacConvTest)\n",
            "----------------------------------------------------------------------\n",
            "Traceback (most recent call last):\n",
            "  File \"/content/pacnet/test_pac.py\", line 55, in setUp\n",
            "    th.cuda.set_device(0)\n",
            "  File \"/usr/local/lib/python3.6/dist-packages/torch/cuda/__init__.py\", line 264, in set_device\n",
            "    torch._C._cuda_setDevice(device)\n",
            "RuntimeError: cuda runtime error (38) : no CUDA-capable device is detected at /pytorch/torch/csrc/cuda/Module.cpp:34\n",
            "\n",
            "======================================================================\n",
            "ERROR: test_pool_forward_const_kernel (test_pac.PacConvTest)\n",
            "----------------------------------------------------------------------\n",
            "Traceback (most recent call last):\n",
            "  File \"/content/pacnet/test_pac.py\", line 55, in setUp\n",
            "    th.cuda.set_device(0)\n",
            "  File \"/usr/local/lib/python3.6/dist-packages/torch/cuda/__init__.py\", line 264, in set_device\n",
            "    torch._C._cuda_setDevice(device)\n",
            "RuntimeError: cuda runtime error (38) : no CUDA-capable device is detected at /pytorch/torch/csrc/cuda/Module.cpp:34\n",
            "\n",
            "======================================================================\n",
            "ERROR: test_pool_grad (test_pac.PacConvTest)\n",
            "----------------------------------------------------------------------\n",
            "Traceback (most recent call last):\n",
            "  File \"/content/pacnet/test_pac.py\", line 55, in setUp\n",
            "    th.cuda.set_device(0)\n",
            "  File \"/usr/local/lib/python3.6/dist-packages/torch/cuda/__init__.py\", line 264, in set_device\n",
            "    torch._C._cuda_setDevice(device)\n",
            "RuntimeError: cuda runtime error (38) : no CUDA-capable device is detected at /pytorch/torch/csrc/cuda/Module.cpp:34\n",
            "\n",
            "======================================================================\n",
            "ERROR: test_pool_sum_grad (test_pac.PacConvTest)\n",
            "----------------------------------------------------------------------\n",
            "Traceback (most recent call last):\n",
            "  File \"/content/pacnet/test_pac.py\", line 55, in setUp\n",
            "    th.cuda.set_device(0)\n",
            "  File \"/usr/local/lib/python3.6/dist-packages/torch/cuda/__init__.py\", line 264, in set_device\n",
            "    torch._C._cuda_setDevice(device)\n",
            "RuntimeError: cuda runtime error (38) : no CUDA-capable device is detected at /pytorch/torch/csrc/cuda/Module.cpp:34\n",
            "\n",
            "======================================================================\n",
            "ERROR: test_pool_two_impl_match (test_pac.PacConvTest)\n",
            "----------------------------------------------------------------------\n",
            "Traceback (most recent call last):\n",
            "  File \"/content/pacnet/test_pac.py\", line 55, in setUp\n",
            "    th.cuda.set_device(0)\n",
            "  File \"/usr/local/lib/python3.6/dist-packages/torch/cuda/__init__.py\", line 264, in set_device\n",
            "    torch._C._cuda_setDevice(device)\n",
            "RuntimeError: cuda runtime error (38) : no CUDA-capable device is detected at /pytorch/torch/csrc/cuda/Module.cpp:34\n",
            "\n",
            "======================================================================\n",
            "ERROR: test_pool_with_kernel_input_sum_grad (test_pac.PacConvTest)\n",
            "----------------------------------------------------------------------\n",
            "Traceback (most recent call last):\n",
            "  File \"/content/pacnet/test_pac.py\", line 55, in setUp\n",
            "    th.cuda.set_device(0)\n",
            "  File \"/usr/local/lib/python3.6/dist-packages/torch/cuda/__init__.py\", line 264, in set_device\n",
            "    torch._C._cuda_setDevice(device)\n",
            "RuntimeError: cuda runtime error (38) : no CUDA-capable device is detected at /pytorch/torch/csrc/cuda/Module.cpp:34\n",
            "\n",
            "----------------------------------------------------------------------\n",
            "Ran 21 tests in 0.102s\n",
            "\n",
            "FAILED (errors=21)\n"
          ],
          "name": "stdout"
        }
      ]
    },
    {
      "cell_type": "markdown",
      "metadata": {
        "id": "ivjsctVCjMfn"
      },
      "source": [
        "#train pacnet"
      ]
    },
    {
      "cell_type": "code",
      "metadata": {
        "id": "CckSQs7KjcZ-"
      },
      "source": [
        "python -m task_jointUpsampling.main --factor 8 \\\r\n",
        "                                    --data-root data/sintel \\\r\n",
        "                                    --exp-root exp/sintel \\\r\n",
        "                                    --download \\\r\n",
        "                                    --dataset Sintel \\\r\n",
        "                                    --epochs 5000 \\\r\n",
        "                                    --lr-steps 3500 4500"
      ],
      "execution_count": null,
      "outputs": []
    },
    {
      "cell_type": "markdown",
      "metadata": {
        "id": "Vvu3hLAbjfG2"
      },
      "source": [
        "#Test pacnet\r\n"
      ]
    },
    {
      "cell_type": "code",
      "metadata": {
        "id": "S5AnfFQDjoxO"
      },
      "source": [
        "python -m task_jointUpsampling.main --load-weights weights_flow/x8_pac_weights_epoch_5000.pth \\\r\n",
        "                                    --download \\\r\n",
        "                                    --factor 8 \\\r\n",
        "                                    --model PacJointUpsample \\\r\n",
        "                                    --dataset Sintel \\\r\n",
        "                                    --data-root data/sintel"
      ],
      "execution_count": null,
      "outputs": []
    }
  ]
}